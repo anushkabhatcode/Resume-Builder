{
  "nbformat": 4,
  "nbformat_minor": 0,
  "metadata": {
    "colab": {
      "provenance": []
    },
    "kernelspec": {
      "name": "python3",
      "display_name": "Python 3"
    },
    "language_info": {
      "name": "python"
    }
  },
  "cells": [
    {
      "cell_type": "code",
      "execution_count": 25,
      "metadata": {
        "id": "5HhhO5bjv--R"
      },
      "outputs": [],
      "source": [
        "from google.colab import drive,userdata"
      ]
    },
    {
      "cell_type": "code",
      "source": [
        "drive.mount('/content/drive')"
      ],
      "metadata": {
        "colab": {
          "base_uri": "https://localhost:8080/"
        },
        "id": "pA7TKoucwR7R",
        "outputId": "1f612ad8-88e1-4ee4-ab6c-cdccc0107199"
      },
      "execution_count": 26,
      "outputs": [
        {
          "output_type": "stream",
          "name": "stdout",
          "text": [
            "Drive already mounted at /content/drive; to attempt to forcibly remount, call drive.mount(\"/content/drive\", force_remount=True).\n"
          ]
        }
      ]
    },
    {
      "cell_type": "code",
      "source": [
        "!pip install python-docx\n",
        "!pip install PyPDF2"
      ],
      "metadata": {
        "colab": {
          "base_uri": "https://localhost:8080/"
        },
        "id": "BNNX4z-fwTgS",
        "outputId": "aac2416e-21a2-4efc-d4bf-a06faeeba2b7"
      },
      "execution_count": 27,
      "outputs": [
        {
          "output_type": "stream",
          "name": "stdout",
          "text": [
            "Requirement already satisfied: python-docx in /usr/local/lib/python3.10/dist-packages (1.1.2)\n",
            "Requirement already satisfied: lxml>=3.1.0 in /usr/local/lib/python3.10/dist-packages (from python-docx) (5.3.0)\n",
            "Requirement already satisfied: typing-extensions>=4.9.0 in /usr/local/lib/python3.10/dist-packages (from python-docx) (4.12.2)\n",
            "Requirement already satisfied: PyPDF2 in /usr/local/lib/python3.10/dist-packages (3.0.1)\n"
          ]
        }
      ]
    },
    {
      "cell_type": "code",
      "source": [
        "!pip install docx2txt"
      ],
      "metadata": {
        "colab": {
          "base_uri": "https://localhost:8080/"
        },
        "id": "10AJ_wraDSsv",
        "outputId": "1cdb4eeb-cfe4-48ce-c61b-f0fcb322967c"
      },
      "execution_count": 30,
      "outputs": [
        {
          "output_type": "stream",
          "name": "stdout",
          "text": [
            "Collecting docx2txt\n",
            "  Downloading docx2txt-0.8.tar.gz (2.8 kB)\n",
            "  Preparing metadata (setup.py) ... \u001b[?25l\u001b[?25hdone\n",
            "Building wheels for collected packages: docx2txt\n",
            "  Building wheel for docx2txt (setup.py) ... \u001b[?25l\u001b[?25hdone\n",
            "  Created wheel for docx2txt: filename=docx2txt-0.8-py3-none-any.whl size=3960 sha256=eed208f844f067904fdf43f9c1e94716264557bf5d02c5eb3799a80448789d97\n",
            "  Stored in directory: /root/.cache/pip/wheels/22/58/cf/093d0a6c3ecfdfc5f6ddd5524043b88e59a9a199cb02352966\n",
            "Successfully built docx2txt\n",
            "Installing collected packages: docx2txt\n",
            "Successfully installed docx2txt-0.8\n"
          ]
        }
      ]
    },
    {
      "cell_type": "code",
      "source": [
        "# from docx.opc.exceptions import PackageNotFoundError\n",
        "import docx2txt\n",
        "def extract_text(file_path):\n",
        "    if file_path.endswith(\".docx\"):\n",
        "        # Extract text from DOCX file\n",
        "        return docx2txt.process(file_path)\n",
        "\n",
        "    elif file_path.endswith(\".pdf\"):\n",
        "        # Extract text from PDF file\n",
        "        text = \"\"\n",
        "        with open(file_path, 'rb') as file:\n",
        "            reader = PyPDF2.PdfReader(file)\n",
        "            for page_num in range(len(reader.pages)):\n",
        "                text += reader.pages[page_num].extract_text()\n",
        "        return text\n",
        "\n",
        "    else:\n",
        "        raise ValueError(\"Unsupported file type\")"
      ],
      "metadata": {
        "id": "v3erOHcZwVTr"
      },
      "execution_count": 31,
      "outputs": []
    },
    {
      "cell_type": "code",
      "source": [
        "# import os\n",
        "# os.environ[\"GOOGLE_APPLICATION_CREDENTIALS\"] = \"/content/drive/MyDrive/Resume/firm-capsule-436804-b5-5f553d9f1043.json\""
      ],
      "metadata": {
        "id": "X3nhju5lwX_3"
      },
      "execution_count": 16,
      "outputs": []
    },
    {
      "cell_type": "code",
      "source": [
        "import os\n",
        "# from langchain.text_splitter import RecursiveCharacterTextSplitter\n",
        "# from langchain_community.vectorstores.faiss import FAISS\n",
        "from google.colab import drive\n",
        "from docx import Document\n",
        "import google.generativeai as genai\n",
        "from datetime import datetime\n",
        "import PyPDF2\n",
        "\n",
        "api_key_google = userdata.get('google_cloud')\n",
        "genai.configure(api_key=api_key_google)\n",
        "\n",
        "# Mount Google Drive\n",
        "drive.mount('/content/drive')\n",
        "\n",
        "model = genai.GenerativeModel('gemini-pro')"
      ],
      "metadata": {
        "colab": {
          "base_uri": "https://localhost:8080/"
        },
        "id": "_VxWFHbZwcbS",
        "outputId": "34bfe6e9-1979-48fe-e82b-650d5a9938b3"
      },
      "execution_count": 32,
      "outputs": [
        {
          "output_type": "stream",
          "name": "stdout",
          "text": [
            "Drive already mounted at /content/drive; to attempt to forcibly remount, call drive.mount(\"/content/drive\", force_remount=True).\n"
          ]
        }
      ]
    },
    {
      "cell_type": "code",
      "source": [
        "def check_relevance_gemini(tailored_resume_path, job_description_path):\n",
        "    \"\"\"\n",
        "    Evaluate the relevance score between a tailored resume and a job description using Gemini Pro.\n",
        "\n",
        "    Args:\n",
        "    - tailored_resume_path (str): Path to the tailored resume file.\n",
        "    - job_description_path (str): Path to the job description file.\n",
        "\n",
        "    Returns:\n",
        "    - dict: A dictionary containing the 'score' (float between 0 and 1) and 'reason' (str).\n",
        "    \"\"\"\n",
        "    # Read content from the files\n",
        "    try:\n",
        "        resume_text = extract_text(tailored_resume_path)\n",
        "        job_description = extract_text(job_description_path)\n",
        "    except Exception as e:\n",
        "        print(f\"Error reading files: {e}\")\n",
        "        return None\n",
        "\n",
        "    # Define the prompt for Gemini Pro\n",
        "    prompt = f\"\"\"\n",
        "You are a recruitment expert evaluating how well a tailored resume aligns with a job description. Provide an objective evaluation based on these criteria:\n",
        "1. Relevance of skills and experience: Do the candidate’s skills, accomplishments, and experience meet the job's core requirements?\n",
        "2. Domain Match: Are the candidate's experiences and achievements relevant to the industry or role?\n",
        "3. Clarity and Conciseness: Is the resume well-structured and focused on the job requirements?\n",
        "4. Highlight gaps or mismatched qualifications realistically.\n",
        "\n",
        "Only provide an overall score and respond in the following format:\n",
        "Score: [Score between 0 and 1]\n",
        "Reason: [A concise explanation of the score]\n",
        "\n",
        "Here is the tailored resume:\n",
        "[Resume Start]\n",
        "{resume_text}\n",
        "[Resume End]\n",
        "\n",
        "And the job description:\n",
        "[Job Description Start]\n",
        "{job_description}\n",
        "[Job Description End]\n",
        "\"\"\"\n",
        "\n",
        "    try:\n",
        "        # Send the prompt to Gemini Pro\n",
        "        response = model.generate_content(prompt)\n",
        "        candidates = response.candidates\n",
        "\n",
        "        # Check for valid response\n",
        "        if not candidates or len(candidates) == 0:\n",
        "            raise ValueError(\"No candidates found in the response.\")\n",
        "\n",
        "        # Extract content from the first candidate\n",
        "        content_text = candidates[0].content.parts[0].text\n",
        "        print(f\"Response from Gemini Pro:\\n{content_text}\")  # Debugging\n",
        "\n",
        "        # Parse score and reason\n",
        "        score, reason = None, None\n",
        "        for line in content_text.split(\"\\n\"):\n",
        "            if line.lower().startswith(\"score:\"):\n",
        "                try:\n",
        "                    score = float(line.split(\":\", 1)[1].strip())\n",
        "                except ValueError:\n",
        "                    raise ValueError(f\"Invalid score format: {line}\")\n",
        "            elif line.lower().startswith(\"reason:\"):\n",
        "                reason = line.split(\":\", 1)[1].strip()\n",
        "\n",
        "        # Validate parsed data\n",
        "        if score is None:\n",
        "            raise ValueError(\"Failed to extract score from the response.\")\n",
        "        if not reason:\n",
        "            reason = \"No reason provided.\"\n",
        "\n",
        "        return {\"score\": score, \"reason\": reason}\n",
        "\n",
        "    except Exception as e:\n",
        "        print(f\"Error in relevance checking: {e}\")\n",
        "        return None\n"
      ],
      "metadata": {
        "id": "TeoyjfTzP-pD"
      },
      "execution_count": 38,
      "outputs": []
    },
    {
      "cell_type": "code",
      "source": [
        "result=check_relevance_gemini(\"/content/drive/MyDrive/Resume/tailored_resume (8).docx\",\"/content/drive/MyDrive/Resume/Job_description.docx\")"
      ],
      "metadata": {
        "colab": {
          "base_uri": "https://localhost:8080/",
          "height": 91
        },
        "id": "w8UOlkg_QBw7",
        "outputId": "95a86297-3c73-4033-9de9-02a7ff62dea1"
      },
      "execution_count": 39,
      "outputs": [
        {
          "output_type": "stream",
          "name": "stdout",
          "text": [
            "Response from Gemini Pro:\n",
            "Score: 0.4\n",
            "Reason: While the candidate has a strong background in data analysis and experience in developing database and business intelligence applications, their skills and experiences do not directly align with the job requirements for a Manufacturing Engineer. The resume does not demonstrate knowledge or experience in manufacturing engineering, including providing technical support for manufacturing and quality problems, identifying and implementing cost reduction projects, or executing design and process verification activities. Additionally, the candidate lacks experience in working with manufacturing equipment and completing process validation for new equipment.\n"
          ]
        }
      ]
    },
    {
      "cell_type": "code",
      "source": [
        "if result:\n",
        "    print(f\"Score: {result['score']}\")\n",
        "    print(f\"Reason: {result['reason']}\")"
      ],
      "metadata": {
        "colab": {
          "base_uri": "https://localhost:8080/"
        },
        "id": "1GWuOcsZQFbb",
        "outputId": "ac9d8174-e8ea-4efe-95d5-a4cc66d6e5ad"
      },
      "execution_count": 41,
      "outputs": [
        {
          "output_type": "stream",
          "name": "stdout",
          "text": [
            "Score: 0.4\n",
            "Reason: While the candidate has a strong background in data analysis and experience in developing database and business intelligence applications, their skills and experiences do not directly align with the job requirements for a Manufacturing Engineer. The resume does not demonstrate knowledge or experience in manufacturing engineering, including providing technical support for manufacturing and quality problems, identifying and implementing cost reduction projects, or executing design and process verification activities. Additionally, the candidate lacks experience in working with manufacturing equipment and completing process validation for new equipment.\n"
          ]
        }
      ]
    },
    {
      "cell_type": "code",
      "source": [],
      "metadata": {
        "id": "lPQVkRKOGmLd"
      },
      "execution_count": null,
      "outputs": []
    }
  ]
}